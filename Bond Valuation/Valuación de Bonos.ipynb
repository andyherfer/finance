{
 "cells": [
  {
   "cell_type": "markdown",
   "source": [
    "# Calculadora de Bonos"
   ],
   "metadata": {}
  },
  {
   "cell_type": "code",
   "execution_count": 4,
   "source": [
    "from BondCalculator import BondCalculator"
   ],
   "outputs": [],
   "metadata": {}
  },
  {
   "cell_type": "markdown",
   "source": [
    "# Demo"
   ],
   "metadata": {}
  },
  {
   "cell_type": "markdown",
   "source": [
    "## Ejercicio 1"
   ],
   "metadata": {}
  },
  {
   "cell_type": "code",
   "execution_count": 6,
   "source": [
    "calculator = BondCalculator(\r\n",
    "    yield_to_maturity=.11,\r\n",
    "    years=15,\r\n",
    "    nominal_value=1000,\r\n",
    "    current_price=1890\r\n",
    ")\r\n",
    "print(f'Tasa Cupón: {calculator.get_coupon_rate():.4f}')\r\n",
    "\r\n"
   ],
   "outputs": [
    {
     "output_type": "stream",
     "name": "stdout",
     "text": [
      "Tasa Cupón: 0.2338\n"
     ]
    }
   ],
   "metadata": {}
  },
  {
   "cell_type": "markdown",
   "source": [
    "## Ejercicio 2"
   ],
   "metadata": {}
  },
  {
   "cell_type": "code",
   "execution_count": 7,
   "source": [
    "calculator = BondCalculator(\n",
    "    yield_to_maturity=.09,\n",
    "    years=20,\n",
    "    nominal_value=1000,\n",
    "    coupon_rate=0.11,\n",
    "    period=2,\n",
    ")\n",
    "print(f'Precio Actual: {calculator.get_current_price()}')"
   ],
   "outputs": [
    {
     "output_type": "stream",
     "name": "stdout",
     "text": [
      "Precio Actual: 1184.0158442027978\n"
     ]
    }
   ],
   "metadata": {}
  },
  {
   "cell_type": "markdown",
   "source": [
    "## Ejercicio 3\n",
    "### YTM 9%"
   ],
   "metadata": {}
  },
  {
   "cell_type": "code",
   "execution_count": 8,
   "source": [
    "Bono_A = BondCalculator(\n",
    "    yield_to_maturity=.09,\n",
    "    years=30,\n",
    "    nominal_value=1000,\n",
    "    coupon_value=500,\n",
    "    period=2,\n",
    ")\n",
    "Bono_B = BondCalculator(\n",
    "    yield_to_maturity=.09,\n",
    "    years=20,\n",
    "    nominal_value=1000,\n",
    "    coupon_value=500,\n",
    "    period=2,\n",
    ")\n",
    "\n",
    "print(f'Precio actual:\\nBono A: {Bono_A.get_current_price()}, Bono B: {Bono_B.get_current_price()}')"
   ],
   "outputs": [
    {
     "output_type": "stream",
     "name": "stdout",
     "text": [
      "Precio actual:\n",
      "Bono A: 10390.300027383631, Bono B: 9372.720911227301\n"
     ]
    }
   ],
   "metadata": {}
  },
  {
   "cell_type": "markdown",
   "source": [
    "### YTM 10%"
   ],
   "metadata": {}
  },
  {
   "cell_type": "code",
   "execution_count": 9,
   "source": [
    "Bono_A = BondCalculator(\n",
    "    yield_to_maturity=.10,\n",
    "    years=30,\n",
    "    nominal_value=1000,\n",
    "    coupon_value=500,\n",
    "    period=2,\n",
    ")\n",
    "Bono_B = BondCalculator(\n",
    "    yield_to_maturity=.10,\n",
    "    years=20,\n",
    "    nominal_value=1000,\n",
    "    coupon_value=500,\n",
    "    period=2,\n",
    ")\n",
    "\n",
    "print(f'Precio actual:\\nBono A: {Bono_A.get_current_price()}, Bono B: {Bono_B.get_current_price()}')"
   ],
   "outputs": [
    {
     "output_type": "stream",
     "name": "stdout",
     "text": [
      "Precio actual:\n",
      "Bono A: 9518.180286281551, Bono B: 8721.5888592975\n"
     ]
    }
   ],
   "metadata": {}
  },
  {
   "cell_type": "code",
   "execution_count": 17,
   "source": [
    "d0 = 5\n",
    "g = 0.03\n",
    "R = 0.21\n",
    "d1 = d0 * (1 + g)\n",
    "P = d1/(R-g)\n",
    "P"
   ],
   "outputs": [
    {
     "output_type": "execute_result",
     "data": {
      "text/plain": [
       "28.611111111111114"
      ]
     },
     "metadata": {},
     "execution_count": 17
    }
   ],
   "metadata": {}
  },
  {
   "cell_type": "code",
   "execution_count": 8,
   "source": [
    "import numpy as np"
   ],
   "outputs": [],
   "metadata": {}
  },
  {
   "cell_type": "code",
   "execution_count": 9,
   "source": [
    "deuda = 4\n",
    "capital = 1\n",
    "wacc = 0.17\n",
    "costo_deuda_antes = .09\n",
    "tasa_tributaria = 0.35\n",
    "costo_deuda = costo_deuda_antes * (1 - tasa_tributaria)"
   ],
   "outputs": [],
   "metadata": {}
  },
  {
   "cell_type": "code",
   "execution_count": 10,
   "source": [
    "weights = np.array([4, 1])\n",
    "weights = weights/np.sum(weights)\n",
    "weights"
   ],
   "outputs": [
    {
     "output_type": "execute_result",
     "data": {
      "text/plain": [
       "array([0.8, 0.2])"
      ]
     },
     "metadata": {},
     "execution_count": 10
    }
   ],
   "metadata": {}
  },
  {
   "cell_type": "code",
   "execution_count": 11,
   "source": [
    "costo_deuda = (wacc - (weights[0] * costo_deuda))/weights[1]\n",
    "costo_deuda"
   ],
   "outputs": [
    {
     "output_type": "execute_result",
     "data": {
      "text/plain": [
       "0.616"
      ]
     },
     "metadata": {},
     "execution_count": 11
    }
   ],
   "metadata": {}
  },
  {
   "cell_type": "code",
   "execution_count": 22,
   "source": [
    "market_value = 72000000\n",
    "debt_market = 62000000\n",
    "Rf = .04\n",
    "Rm = 0.17\n",
    "Beta = 1.87\n",
    "debt = 0.11 * (1 - 0.32)\n",
    "capm = Rf + Beta * (Rm - Rf)"
   ],
   "outputs": [],
   "metadata": {}
  },
  {
   "cell_type": "code",
   "execution_count": 21,
   "source": [
    "weights = np.array([market_value, debt_market])\n",
    "weights = weights/np.sum(weights)\n",
    "weights"
   ],
   "outputs": [
    {
     "output_type": "execute_result",
     "data": {
      "text/plain": [
       "array([0.53731343, 0.46268657])"
      ]
     },
     "metadata": {},
     "execution_count": 21
    }
   ],
   "metadata": {}
  },
  {
   "cell_type": "code",
   "execution_count": 23,
   "source": [
    "wacc = np.sum(weights * np.array([capm , debt]))\n",
    "wacc"
   ],
   "outputs": [
    {
     "output_type": "execute_result",
     "data": {
      "text/plain": [
       "0.18672238805970148"
      ]
     },
     "metadata": {},
     "execution_count": 23
    }
   ],
   "metadata": {}
  },
  {
   "cell_type": "code",
   "execution_count": 2,
   "source": [
    "def get_R0(S, Rs, Rb, tc, B):\n",
    "    R0 = (-S * Rs  -B * (Rb * (1 - tc)))/(- S - B + B * tc )\n",
    "    return R0\n",
    "get_R0(.02857, .03625, .1, .35, .7143)"
   ],
   "outputs": [
    {
     "output_type": "execute_result",
     "data": {
      "text/plain": [
       "0.09630459152100473"
      ]
     },
     "metadata": {},
     "execution_count": 2
    }
   ],
   "metadata": {}
  },
  {
   "cell_type": "code",
   "execution_count": 3,
   "source": [
    "Capital = 72000000\n",
    "Deuda = 62000000\n",
    "S = Capital / sum([Capital, Deuda])\n",
    "B = Deuda / sum([Capital, Deuda])\n",
    "Rs = .2831000000\n",
    "Rb = .11\n",
    "tc = .32\n",
    "get_R0(S, Rs, Rb, tc, B)"
   ],
   "outputs": [
    {
     "output_type": "execute_result",
     "data": {
      "text/plain": [
       "0.21917309039943939"
      ]
     },
     "metadata": {},
     "execution_count": 3
    }
   ],
   "metadata": {}
  },
  {
   "cell_type": "code",
   "execution_count": 6,
   "source": [
    "wacc = .19\n",
    "tc = .35\n",
    "Rs = .27\n",
    "d_c = 1.9\n",
    "wd = 1.9 / 2.9\n",
    "wc = 1 - wd\n",
    "\n",
    "Rd = (wacc - wc * Rs)/wd\n",
    "Rd"
   ],
   "outputs": [
    {
     "output_type": "execute_result",
     "data": {
      "text/plain": [
       "0.14789473684210527"
      ]
     },
     "metadata": {},
     "execution_count": 6
    }
   ],
   "metadata": {}
  },
  {
   "cell_type": "code",
   "execution_count": null,
   "source": [],
   "outputs": [],
   "metadata": {}
  }
 ],
 "metadata": {
  "kernelspec": {
   "display_name": "Python 3",
   "language": "python",
   "name": "python3"
  },
  "language_info": {
   "codemirror_mode": {
    "name": "ipython",
    "version": 3
   },
   "file_extension": ".py",
   "mimetype": "text/x-python",
   "name": "python",
   "nbconvert_exporter": "python",
   "pygments_lexer": "ipython3",
   "version": "3.8.5"
  }
 },
 "nbformat": 4,
 "nbformat_minor": 4
}